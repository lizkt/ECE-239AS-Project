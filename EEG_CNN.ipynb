{
 "cells": [
  {
   "cell_type": "code",
   "execution_count": 1,
   "metadata": {},
   "outputs": [
    {
     "name": "stderr",
     "output_type": "stream",
     "text": [
      "C:\\Users\\Michael\\Anaconda3\\envs\\ECE\\lib\\site-packages\\h5py\\__init__.py:36: FutureWarning: Conversion of the second argument of issubdtype from `float` to `np.floating` is deprecated. In future, it will be treated as `np.float64 == np.dtype(float).type`.\n",
      "  from ._conv import register_converters as _register_converters\n"
     ]
    }
   ],
   "source": [
    "import torch\n",
    "import torchvision\n",
    "import h5py\n",
    "import torch.autograd as autograd\n",
    "import torch.nn as nn\n",
    "import torch.nn.functional as F\n",
    "import torch.optim as optim\n",
    "import numpy as np\n",
    "from ECE_CNN import CNN"
   ]
  },
  {
   "cell_type": "code",
   "execution_count": 2,
   "metadata": {},
   "outputs": [
    {
     "name": "stdout",
     "output_type": "stream",
     "text": [
      "(288, 22, 1000)\n",
      "(288, 22, 1000)\n",
      "(288, 22, 1000)\n",
      "(288, 22, 1000)\n",
      "(288, 22, 1000)\n",
      "(288, 22, 1000)\n",
      "(288, 22, 1000)\n",
      "(288, 22, 1000)\n",
      "(288, 22, 1000)\n"
     ]
    }
   ],
   "source": [
    "#Load in the data\n",
    "from load_data import EEGDataLoader\n",
    "data = EEGDataLoader('project_datasets/')\n",
    "X_train, y_train, X_test, y_test =  data.load_all_data()"
   ]
  },
  {
   "cell_type": "code",
   "execution_count": 3,
   "metadata": {},
   "outputs": [
    {
     "name": "stdout",
     "output_type": "stream",
     "text": [
      "Using GPU\n"
     ]
    }
   ],
   "source": [
    "#Initialize the CNN\n",
    "cnn = CNN()\n",
    "cuda = False\n",
    "if torch.cuda.is_available():\n",
    "    print('Using GPU')\n",
    "    cuda = True\n",
    "    cnn.cuda()\n",
    "    cnn = torch.nn.DataParallel(cnn,device_ids=range(torch.cuda.device_count()))\n",
    "lr = 0.001\n",
    "epochs = 1\n",
    "batch_size = 100\n",
    "optimizer = torch.optim.Adam(cnn.parameters(),lr=lr)\n",
    "criterion = nn.CrossEntropyLoss()"
   ]
  },
  {
   "cell_type": "code",
   "execution_count": 4,
   "metadata": {},
   "outputs": [
    {
     "name": "stdout",
     "output_type": "stream",
     "text": [
      "Epoch:  0\n",
      "Loss:  1.436803936958313\n",
      "Epoch:  1\n",
      "Loss:  1.2308070659637451\n",
      "Epoch:  2\n",
      "Loss:  1.4307893514633179\n",
      "Epoch:  3\n",
      "Loss:  1.770952582359314\n",
      "Epoch:  4\n",
      "Loss:  1.6367628574371338\n",
      "Epoch:  5\n",
      "Loss:  1.4858617782592773\n",
      "Epoch:  6\n",
      "Loss:  1.3417209386825562\n",
      "Epoch:  7\n",
      "Loss:  1.2900066375732422\n",
      "Epoch:  8\n",
      "Loss:  0.681967556476593\n",
      "Epoch:  9\n",
      "Loss:  0.44113689661026\n"
     ]
    }
   ],
   "source": [
    "#train the data \n",
    "\n",
    "X_train_i, y_train_i = X_train[0], y_train[0]\n",
    "for epoch in range(10):\n",
    "    print('Epoch: ',epoch)\n",
    "    for i in range(X_train_i.shape[0]):\n",
    "        image, label = X_train_i[i], y_train_i[i]\n",
    "        if np.any(np.isnan(image)):\n",
    "            continue\n",
    "        if cuda:\n",
    "            image = autograd.Variable(torch.cuda.FloatTensor(image.reshape((image.shape[0],1,image.shape[1]))))\n",
    "            label = autograd.Variable(torch.cuda.LongTensor([int(label %769)]))\n",
    "        else:\n",
    "            image = autograd.Variable(torch.FloatTensor(image.reshape((image.shape[0],1,image.shape[1]))))\n",
    "            label = autograd.Variable(torch.LongTensor([int(label %769)]))\n",
    "        optimizer.zero_grad()\n",
    "        scores = cnn(image)\n",
    "        scores = torch.mean(scores,0)\n",
    "        scores = scores.view(1,4)\n",
    "        loss = criterion(scores,label)\n",
    "        loss.backward()\n",
    "        optimizer.step()\n",
    "        \n",
    "    print('Loss: ',loss.data[0])"
   ]
  },
  {
   "cell_type": "code",
   "execution_count": 5,
   "metadata": {},
   "outputs": [
    {
     "name": "stdout",
     "output_type": "stream",
     "text": [
      "accuracy: 0.7974683544303798\n"
     ]
    }
   ],
   "source": [
    "# Training Accuracy\n",
    "predictions = []\n",
    "labels = []\n",
    "X_train_i, y_train_i = X_train[0], y_train[0]\n",
    "for i in range(X_train_i.shape[0]):\n",
    "    image, label = X_train_i[i], y_train_i[i]\n",
    "    if np.any(np.isnan(image)):\n",
    "        continue\n",
    "    if cuda:\n",
    "        image = autograd.Variable(torch.cuda.FloatTensor(image.reshape((image.shape[0],1,image.shape[1]))))\n",
    "        label = autograd.Variable(torch.cuda.LongTensor([int(label %769)]))\n",
    "    else:\n",
    "        image = autograd.Variable(torch.FloatTensor(image.reshape((image.shape[0],1,image.shape[1]))))\n",
    "        label = autograd.Variable(torch.LongTensor([int(label %769)]))\n",
    "    optimizer.zero_grad()\n",
    "    scores = cnn(image)\n",
    "    scores = torch.mean(scores,0)\n",
    "    scores = scores.view(1,4)\n",
    "    prediction = np.argmax(scores.data.cpu().numpy())\n",
    "    predictions.append(prediction)\n",
    "    labels.append(int(label%769))\n",
    "diffs = [1 if prediction != label else 0 for prediction, label in zip(predictions, labels)]\n",
    "error = sum(diffs)/len(diffs)\n",
    "print(\"accuracy: {}\".format(1 - error))"
   ]
  },
  {
   "cell_type": "code",
   "execution_count": 6,
   "metadata": {},
   "outputs": [
    {
     "name": "stdout",
     "output_type": "stream",
     "text": [
      "accuracy: 0.36\n"
     ]
    }
   ],
   "source": [
    "# Testing Accuracy\n",
    "X_test_i, y_test_i = X_test[0], y_test[0]\n",
    "predictions = []\n",
    "labels = []\n",
    "for i in range(X_test_i.shape[0]):\n",
    "    image, label = X_test_i[i], y_test_i[i]\n",
    "    if np.any(np.isnan(image)):\n",
    "        continue\n",
    "    if cuda:\n",
    "        image = autograd.Variable(torch.cuda.FloatTensor(image.reshape((image.shape[0],1,image.shape[1]))))\n",
    "        label = autograd.Variable(torch.cuda.LongTensor([int(label %769)]))\n",
    "    else:\n",
    "        image = autograd.Variable(torch.FloatTensor(image.reshape((image.shape[0],1,image.shape[1]))))\n",
    "        label = autograd.Variable(torch.LongTensor([int(label %769)]))\n",
    "    optimizer.zero_grad()\n",
    "    scores = cnn(image)\n",
    "    scores = torch.mean(scores,0)\n",
    "    scores = scores.view(1,4)\n",
    "    prediction = np.argmax(scores.data.cpu().numpy())\n",
    "    predictions.append(prediction)\n",
    "    labels.append(int(label%769))\n",
    "\n",
    "\n",
    "diffs = [1 if prediction != label else 0 for prediction, label in zip(predictions, labels)]\n",
    "error = sum(diffs)/len(diffs)\n",
    "print(\"accuracy: {}\".format(1 - error))"
   ]
  },
  {
   "cell_type": "code",
   "execution_count": null,
   "metadata": {},
   "outputs": [],
   "source": []
  }
 ],
 "metadata": {
  "kernelspec": {
   "display_name": "Python 3",
   "language": "python",
   "name": "python3"
  },
  "language_info": {
   "codemirror_mode": {
    "name": "ipython",
    "version": 3
   },
   "file_extension": ".py",
   "mimetype": "text/x-python",
   "name": "python",
   "nbconvert_exporter": "python",
   "pygments_lexer": "ipython3",
   "version": "3.6.4"
  }
 },
 "nbformat": 4,
 "nbformat_minor": 2
}
